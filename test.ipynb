{
 "cells": [
  {
   "cell_type": "code",
   "execution_count": null,
   "metadata": {},
   "outputs": [],
   "source": [
    "from aces.aces import ACES\n",
    "from transformers import HfArgumentParser, TrainingArguments, set_seed, DataCollatorForSeq2Seq\n",
    "from dataclasses import dataclass, field\n",
    "from typing import Optional\n",
    "\n",
    "@dataclass\n",
    "class AcesArguments:\n",
    "    \"\"\"\n",
    "    Arguments pertaining to which model/config/tokenizer we are going to fine-tune from.DataTrainingArguments\n",
    "    \"\"\"\n",
    "\n",
    "    environement_name : str = field( default = \"p3\", metadata={\"help\": \"environment name\"})\n",
    "    path_archive : str = field( default = \"/home/flowers/work/aces/aces/environement/p3/preprocess_p3_emb_dedup_puzzles.json\", metadata={\"help\": \"path to the archive\"})\n",
    "    num_solutions: int = field( default = 10, metadata={\"help\": \"number of solutions to generate to compute the difficulty score\"})\n",
    "    \n",
    "@dataclass\n",
    "class QdArguments:\n",
    "    \"\"\"\n",
    "    Arguments pertaining to which model/config/tokenizer we are going to fine-tune from.DataTrainingArguments\n",
    "    \"\"\"\n",
    "\n",
    "    a: str = field(\n",
    "        default=\"/home/flowers/work/hf/Qwen2.5-0.5B-Instruct\",\n",
    "        metadata={\"help\": \"Path to pretrained model or model identifier from huggingface.co/models\"}\n",
    "    )\n",
    "\n",
    "@dataclass\n",
    "class LLMArguments:\n",
    "    \"\"\"\n",
    "    Arguments pertaining to which model/config/tokenizer we are going to fine-tune from.DataTrainingArguments\n",
    "    \"\"\"\n",
    "\n",
    "    model_name_or_path: str = field(\n",
    "        default=\"/home/flowers/work/hf/Qwen2.5-0.5B-Instruct\",\n",
    "        metadata={\"help\": \"Path to pretrained model or model identifier from huggingface.co/models\"}\n",
    "    )\n",
    "    online: Optional[bool] = field(\n",
    "        default = False,\n",
    "        metadata={\n",
    "            \"help\": \"use vllm server if True else use offline vllm\"\n",
    "        },\n",
    "    )\n",
    "    base_url: Optional[str] = field(\n",
    "        default=\"http://localhost:8000\",\n",
    "        metadata={\n",
    "            \"help\": \"base url for vllm server\"\n",
    "        },\n",
    "    )\n",
    "    api_key: Optional[str] = field(\n",
    "        default=\"\",\n",
    "        metadata={\n",
    "            \"help\": \"api key \"\n",
    "        },\n",
    "    )\n",
    "    gpu: Optional[bool] = field(\n",
    "        default = 1,\n",
    "        metadata={\n",
    "            \"help\": \"number of gpus to use (vllm)\"\n",
    "        },\n",
    "    )\n",
    "    cfg_generation : Optional[bool] = field(\n",
    "        default = False,\n",
    "        metadata={\n",
    "            \"help\": \"use cfg generation\"\n",
    "        },\n",
    "    ),\n",
    "    temperature: Optional[float] = field(\n",
    "        default = 1.0,\n",
    "        metadata={\n",
    "            \"help\": \"temperature\"\n",
    "        },\n",
    "    )\n",
    "    max_tokens: Optional[int] = field(\n",
    "        default = 4000,\n",
    "        metadata={\n",
    "            \"help\": \"max tokens\"\n",
    "        },\n",
    "    )\n",
    "\n",
    "# parser = HfArgumentParser((AcesArguments,QdArguments,LLMArguments))\n",
    "# model_args, data_args, training_args = parser.parse_args_into_dataclasses()#[\"--output_dir\", \"/home/flowers/work/hf/trained/\"])\n",
    "aces_args, qd_args, llm_args = AcesArguments(), QdArguments(), LLMArguments()\n"
   ]
  },
  {
   "cell_type": "code",
   "execution_count": 2,
   "metadata": {},
   "outputs": [
    {
     "name": "stdout",
     "output_type": "stream",
     "text": [
      "init LLM client\n",
      "INFO 11-29 18:55:38 config.py:350] This model supports multiple tasks: {'generate', 'embedding'}. Defaulting to 'generate'.\n",
      "INFO 11-29 18:55:38 llm_engine.py:249] Initializing an LLM engine (v0.6.4.post1) with config: model='/home/flowers/work/hf/Qwen2.5-0.5B-Instruct', speculative_config=None, tokenizer='/home/flowers/work/hf/Qwen2.5-0.5B-Instruct', skip_tokenizer_init=False, tokenizer_mode=auto, revision=None, override_neuron_config=None, tokenizer_revision=None, trust_remote_code=False, dtype=torch.bfloat16, max_seq_len=30000, download_dir=None, load_format=LoadFormat.AUTO, tensor_parallel_size=1, pipeline_parallel_size=1, disable_custom_all_reduce=False, quantization=None, enforce_eager=False, kv_cache_dtype=auto, quantization_param_path=None, device_config=cuda, decoding_config=DecodingConfig(guided_decoding_backend='outlines'), observability_config=ObservabilityConfig(otlp_traces_endpoint=None, collect_model_forward_time=False, collect_model_execute_time=False), seed=0, served_model_name=/home/flowers/work/hf/Qwen2.5-0.5B-Instruct, num_scheduler_steps=1, chunked_prefill_enabled=False multi_step_stream_outputs=True, enable_prefix_caching=True, use_async_output_proc=True, use_cached_outputs=False, chat_template_text_format=string, mm_processor_kwargs=None, pooler_config=None)\n",
      "INFO 11-29 18:55:38 selector.py:135] Using Flash Attention backend.\n",
      "INFO 11-29 18:55:38 model_runner.py:1072] Starting to load model /home/flowers/work/hf/Qwen2.5-0.5B-Instruct...\n"
     ]
    },
    {
     "name": "stderr",
     "output_type": "stream",
     "text": [
      "Loading safetensors checkpoint shards:   0% Completed | 0/1 [00:00<?, ?it/s]\n",
      "Loading safetensors checkpoint shards: 100% Completed | 1/1 [00:00<00:00,  1.59it/s]\n",
      "Loading safetensors checkpoint shards: 100% Completed | 1/1 [00:00<00:00,  1.58it/s]\n"
     ]
    },
    {
     "name": "stdout",
     "output_type": "stream",
     "text": [
      "INFO 11-29 18:55:39 model_runner.py:1077] Loading model weights took 0.9276 GB\n"
     ]
    },
    {
     "name": "stderr",
     "output_type": "stream",
     "text": [
      "\n"
     ]
    },
    {
     "name": "stdout",
     "output_type": "stream",
     "text": [
      "INFO 11-29 18:55:40 worker.py:232] Memory profiling results: total_gpu_memory=15.70GiB initial_memory_usage=1.32GiB peak_torch_memory=2.36GiB memory_usage_post_profile=1.36GiB non_torch_memory=0.42GiB kv_cache_size=11.34GiB gpu_memory_utilization=0.90\n",
      "INFO 11-29 18:55:40 gpu_executor.py:113] # GPU blocks: 61940, # CPU blocks: 21845\n",
      "INFO 11-29 18:55:40 gpu_executor.py:117] Maximum concurrency for 30000 tokens per request: 33.03x\n",
      "INFO 11-29 18:55:41 model_runner.py:1400] Capturing cudagraphs for decoding. This may lead to unexpected consequences if the model is not static. To run the model in eager mode, set 'enforce_eager=True' or use '--enforce-eager' in the CLI.\n",
      "INFO 11-29 18:55:41 model_runner.py:1404] If out-of-memory error occurs during cudagraph capture, consider decreasing `gpu_memory_utilization` or switching to eager mode. You can also reduce the `max_num_seqs` as needed to decrease memory usage.\n",
      "INFO 11-29 18:55:48 model_runner.py:1518] Graph capturing finished in 6 secs, took 0.15 GiB\n",
      "LLM client initialized\n"
     ]
    }
   ],
   "source": [
    "aces= ACES(aces_args, qd_args, llm_args)"
   ]
  },
  {
   "cell_type": "code",
   "execution_count": 2,
   "metadata": {},
   "outputs": [],
   "source": [
    "from aces.environement.p3.prompt import get_programming_puzzles_prompt\n",
    "from aces.environement.p3.p3_genotype import P3\n"
   ]
  },
  {
   "cell_type": "code",
   "execution_count": 5,
   "metadata": {},
   "outputs": [],
   "source": [
    "p3_1 = P3(program_str=\"puzzle test1\", emb=[1,0,1,0,0],fitness=0.5 )\n",
    "p3_2 = P3(program_str=\"puzzle test2\", emb=[1,0,1,0,0],fitness=0.5 )\n",
    "list_p3 = [p3_1, p3_2]\n",
    "skill_targeted=[1,0,1,0,1]"
   ]
  },
  {
   "cell_type": "code",
   "execution_count": 7,
   "metadata": {},
   "outputs": [
    {
     "name": "stdout",
     "output_type": "stream",
     "text": [
      "Consider Python Programming Puzzles (P3). P3 consists of two functions: a problem function `f` and its corresponding solution `g`. The challenge lies in constructing a SAT problem `f` and a function `g` such that `f(g())` evaluates to `True`\n",
      "\n",
      "## Main Rules:\n",
      "- Each puzzle includes two functions: `def f(...)` and `def g(...)`.\n",
      "- The first argument of `f` is always the output from `g()`.\n",
      "- Ensure `f` and `g` have matching argument signatures (e.g., `def f(solution, arg1=value1, arg2=value2, ...)` and `def g(arg1=value1, arg2=value2, ...)`). You also need to set the value of argument of f (arg1,arg2,...) and g when you define them.\n",
      "- Avoid using `f` inside `g`, and `g` inside `f`.\n",
      "- Include any necessary imports so your code runs smoothly.\n",
      "- Give a clear Puzzle description that must be brief and diverse compared to the other puzzles.\n",
      "- Make sure the puzzle is self-contained within these two functions.\n",
      "- Make sure that that each puzzle have just all required skills (see below)\n",
      "\n",
      "## P3 Format:\n",
      "Puzzle description: A two to four sentence summary of the puzzle's content. To explain what is the problem `f`, and how you can solve it with `g`. \n",
      "```python\n",
      "def f(solution, args=...) -> bool:\n",
      "    # Python code to test the solution returned by g.\n",
      "    # This function is a test unit and must return True if the solution is correct, and False otherwise.\n",
      "\n",
      "def g(args=...) -> solution:\n",
      "    # Python code to generate a solution for the problem.\n",
      "    # The solution should generalize to all possible args.\n",
      "    return solution\n",
      "\n",
      "assert f(g()) == True\n",
      "```\n",
      "\n",
      "## Examples:\n",
      "\n",
      "Puzzle 0:\n",
      "Puzzle description:  description of the puzzle\n",
      "\n",
      "- Difficulty score: 150 out of 100\n",
      "\n",
      "- This puzzle has the following skills:\n",
      "* String Manipulation\n",
      "* Conditional Logic\n",
      "\n",
      "```python\n",
      "puzzle test1\n",
      "```\n",
      "\n",
      "Puzzle 1:\n",
      "Puzzle description:  description of the puzzle\n",
      "\n",
      "- Difficulty score: 150 out of 100\n",
      "\n",
      "- This puzzle has the following skills:\n",
      "* String Manipulation\n",
      "* Conditional Logic\n",
      "\n",
      "```python\n",
      "puzzle test2\n",
      "```\n",
      "\n",
      "\n",
      "Generate 5 P3 similar to previous Examples. Ensure that all new puzzles are more challenging than Puzzle from previous examples.\n",
      "You should aim to generate puzzles with a Difficulty score between 90 and 100 out of 100.\n",
      "\n",
      "**Please make sure that new puzzles have JUST ALL the following skills**:\n",
      "- String Manipulation\n",
      "- Conditional Logic\n",
      "- Brute Force Search\n",
      "## New 5 problems:\n",
      "\n"
     ]
    }
   ],
   "source": [
    "print(get_programming_puzzles_prompt(list_p3,skill_targeted,n_fewshot_ex=2))"
   ]
  },
  {
   "cell_type": "code",
   "execution_count": 1,
   "metadata": {},
   "outputs": [],
   "source": [
    "import json\n",
    "path=\"/home/flowers/work/aces/aces/environement/p3/preprocess_p3_emb_dedup_puzzles.json\"\n",
    "with open(path, 'r') as f:\n",
    "    data = json.load(f) "
   ]
  },
  {
   "cell_type": "code",
   "execution_count": null,
   "metadata": {},
   "outputs": [
    {
     "data": {
      "text/plain": [
       "{'program_str': 'def f(n: int) -> bool:\\n    return str(n * n).startswith(\\'123456789\\')\\ndef g():\\n    return int(int(\"123456789\" + \"0\" * 9) ** 0.5) + 1\\nassert f(g()) == True',\n",
       " 'emb': [1, 1, 0, 0, 0, 0, 0, 0, 0, 0, 0, 0, 0, 0, 0, 0, 1, 0, 0, 0],\n",
       " 'explanation_emb': 'This puzzle involves string manipulation to check if the square of a number starts with a specific sequence of digits, and mathematical operations to calculate the square root of a number. The puzzle also requires an understanding of number theory, specifically the concept of square roots.\\n\\nThe list of skills used is: [0, 1, 16].',\n",
       " 'description': \"Find the solution: n (an integer) that should be squared and its result in string format starts with '123456789'.\",\n",
       " 'quality': 1,\n",
       " 'fitness': -0.020000000000000018,\n",
       " 'all_solution': ['def f(n: int) -> bool:\\n    return str(n * n).startswith(\\'123456789\\')\\ndef g():\\n    return int(int(\"123456789\" + \"0\" * 9) ** 0.5) + 1\\nassert f(g()) == True\\nassert f(g()) == True',\n",
       "  \"def f(n: int) -> bool:\\n    return str(n * n).startswith('123456789')\\ndef g():\\n    return 354294091\\n\\nassert f(g()) == True\\nassert f(g()) == True\",\n",
       "  \"def f(n: int) -> bool:\\n    return str(n * n).startswith('123456789')\\ndef g():\\n    return 354294091\\n\\nassert f(g()) == True\\nassert f(g()) == True\",\n",
       "  \"def f(n: int) -> bool:\\n    return str(n * n).startswith('123456789')\\ndef g():\\n    return 354294091\\n\\nassert f(g()) == True\\nassert f(g()) == True\",\n",
       "  \"def f(n: int) -> bool:\\n    return str(n * n).startswith('123456789')\\ndef g():\\n    return 3528439\\n\\nassert f(g()) == True\\nassert f(g()) == True\",\n",
       "  \"def f(n: int) -> bool:\\n    return str(n * n).startswith('123456789')\\ndef g():\\n    return 3528439\\n\\nassert f(g()) == True\\nassert f(g()) == True\",\n",
       "  \"def f(n: int) -> bool:\\n    return str(n * n).startswith('123456789')\\ndef g():\\n    return 354294091\\n\\nassert f(g()) == True\\nassert f(g()) == True\",\n",
       "  \"def f(n: int) -> bool:\\n    return str(n * n).startswith('123456789')\\ndef g():\\n    return 354294\\n\\nassert f(g()) == True\\nassert f(g()) == True\",\n",
       "  \"def f(n: int) -> bool:\\n    return str(n * n).startswith('123456789')\\ndef g():\\n    return 354294\\n\\nassert f(g()) == True\\nassert f(g()) == True\",\n",
       "  \"def f(n: int) -> bool:\\n    return str(n * n).startswith('123456789')\\ndef g():\\n    return 3528439\\n\\nassert f(g()) == True\\nassert f(g()) == True\",\n",
       "  \"def f(n: int) -> bool:\\n    return str(n * n).startswith('123456789')\\ndef g():\\n    return 3528439\\n\\nassert f(g()) == True\\nassert f(g()) == True\",\n",
       "  \"def f(n: int) -> bool:\\n    return str(n * n).startswith('123456789')\\ndef g():\\n    for i in range(1000000):\\n        if f(i):\\n            return i\\n    return None\\n\\nassert f(g()) == True\\nassert f(g()) == True\",\n",
       "  \"def f(n: int) -> bool:\\n    return str(n * n).startswith('123456789')\\ndef g():\\n    for i in range(1000000):\\n        if f(i):\\n            return i\\n    return None\\n\\nassert f(g()) == True\\nassert f(g()) == True\",\n",
       "  \"def f(n: int) -> bool:\\n    return str(n * n).startswith('123456789')\\ndef g():\\n    return 3528439\\n\\nassert f(g()) == True\\nassert f(g()) == True\",\n",
       "  \"def f(n: int) -> bool:\\n    return str(n * n).startswith('123456789')\\ndef g():\\n    for i in range(1000000):\\n        if f(i):\\n            return i\\n    return None\\n\\nassert f(g()) == True\\nassert f(g()) == True\",\n",
       "  \"def f(n: int) -> bool:\\n    return str(n * n).startswith('123456789')\\ndef g():\\n    for i in range(1000000):\\n        if f(i):\\n            return i\\n    return None\\n\\nassert f(g()) == True\\nassert f(g()) == True\",\n",
       "  \"def f(n: int) -> bool:\\n    return str(n * n).startswith('123456789')\\ndef g():\\n    for i in range(1000000):\\n        if f(i):\\n            return i\\n    return None\\n\\nassert f(g()) == True\\nassert f(g()) == True\",\n",
       "  \"def f(n: int) -> bool:\\n    return str(n * n).startswith('123456789')\\ndef g():\\n    for i in range(1000000):\\n        if f(i):\\n            return i\\n    return None\\n\\nassert f(g()) == True\\nassert f(g()) == True\",\n",
       "  \"def f(n: int) -> bool:\\n    return str(n * n).startswith('123456789')\\ndef g():\\n    for i in range(1000000):\\n        if f(i):\\n            return i\\n    return None\\nassert f(g()) == True\\nassert f(g()) == True\",\n",
       "  \"def f(n: int) -> bool:\\n    return str(n * n).startswith('123456789')\\ndef g():\\n    i = 1\\n    while True:\\n        if str(i * i).startswith('123456789'):\\n            return i * i\\n        i += 1\\n\\nassert f(g()) == True\\nassert f(g()) == True\",\n",
       "  \"def f(n: int) -> bool:\\n    return str(n * n).startswith('123456789')\\ndef g():\\n    return 35265625\\n\\nassert f(g()) == True\\nassert f(g()) == True\",\n",
       "  \"def f(n: int) -> bool:\\n    return str(n * n).startswith('123456789')\\ndef g():\\n    i = 1\\n    while True:\\n        if f(i):\\n            return i\\n        i += 1\\nassert f(g()) == True\\nassert f(g()) == True\",\n",
       "  \"def f(n: int) -> bool:\\n    return str(n * n).startswith('123456789')\\ndef g():\\n    i = 1\\n    while True:\\n        if f(i):\\n            return i\\n        i += 1\\nassert f(g()) == True\\nassert f(g()) == True\",\n",
       "  \"def f(n: int) -> bool:\\n    return str(n * n).startswith('123456789')\\ndef g():\\n    for i in range(1000000):\\n        if f(i):\\n            return i\\n    return None\\nassert f(g()) == True\\nassert f(g()) == True\",\n",
       "  \"def f(n: int) -> bool:\\n    return str(n * n).startswith('123456789')\\ndef g():\\n    for i in range(10**9):\\n        if f(i):\\n            return i\\n    return None\\nassert f(g()) == True\\nassert f(g()) == True\",\n",
       "  \"def f(n: int) -> bool:\\n    return str(n * n).startswith('123456789')\\ndef g():\\n    return 35265625\\n\\nassert f(g()) == True\\nassert f(g()) == True\",\n",
       "  \"def f(n: int) -> bool:\\n    return str(n * n).startswith('123456789')\\ndef g():\\n    for i in range(10000000):\\n        if f(i):\\n            return i\\n    return None\\n\\nassert f(g()) == True\\nassert f(g()) == True\",\n",
       "  \"def f(n: int) -> bool:\\n    return str(n * n).startswith('123456789')\\ndef g():\\n    i = 1\\n    while True:\\n        if str(i * i).startswith('123456789'):\\n            return i * i\\n        i += 1\\n\\nassert f(g()) == True\\nassert f(g()) == True\",\n",
       "  \"def f(n: int) -> bool:\\n    return str(n * n).startswith('123456789')\\ndef g():\\n    return 35265609\\n\\nassert f(g()) == True\\nassert f(g()) == True\",\n",
       "  \"def f(n: int) -> bool:\\n    return str(n * n).startswith('123456789')\\ndef g():\\n    return 352016843\\n\\nassert f(g()) == True\\nassert f(g()) == True\",\n",
       "  \"def f(n: int) -> bool:\\n    return str(n * n).startswith('123456789')\\ndef g():\\n    return 35265609 \\n\\nassert f(g()) == True\\nassert f(g()) == True\",\n",
       "  \"def f(n: int) -> bool:\\n    return str(n * n).startswith('123456789')\\ndef g():\\n    return 354294091  # or any other number that satisfies the condition\\n\\nassert f(g()) == True\\nassert f(g()) == True\",\n",
       "  \"def f(n: int) -> bool:\\n    return str(n * n).startswith('123456789')\\ndef g():\\n    for i in range(10**10):\\n        if f(i):\\n            return i\\n    return None\\n\\nassert f(g()) == True\\nassert f(g()) == True\",\n",
       "  \"def f(n: int) -> bool:\\n    return str(n * n).startswith('123456789')\\ndef g():\\n    return 351843717\\n\\nassert f(g()) == True\\nassert f(g()) == True\",\n",
       "  \"def f(n: int) -> bool:\\n    return str(n * n).startswith('123456789')\\ndef g():\\n    n = 352281\\n    return n\\n\\nassert f(g()) == True\\nassert f(g()) == True\",\n",
       "  \"def f(n: int) -> bool:\\n    return str(n * n).startswith('123456789')\\ndef g():\\n    return 35422436\\n\\nassert f(g()) == True\\nassert f(g()) == True\",\n",
       "  \"def f(n: int) -> bool:\\n    return str(n * n).startswith('123456789')\\ndef g():\\n    return 35265609 \\n\\nassert f(g()) == True\\nassert f(g()) == True\",\n",
       "  \"def f(n: int) -> bool:\\n    return str(n * n).startswith('123456789')\\ndef g():\\n    return 352656095\\n\\nassert f(g()) == True\\nassert f(g()) == True\",\n",
       "  \"def f(n: int) -> bool:\\n    return str(n * n).startswith('123456789')\\ndef g():\\n    return 3_210_196\\n\\nassert f(g()) == True\\nassert f(g()) == True\",\n",
       "  \"def f(n: int) -> bool:\\n    return str(n * n).startswith('123456789')\\ndef g():\\n    return 352656357\\n\\nassert f(g()) == True\\nassert f(g()) == True\",\n",
       "  \"def f(n: int) -> bool:\\n    return str(n * n).startswith('123456789')\\ndef g():\\n    return 3526560903\\n\\nassert f(g()) == True\\nassert f(g()) == True\",\n",
       "  \"def f(n: int) -> bool:\\n    return str(n * n).startswith('123456789')\\ndef g():\\n    return 35429409164768\\n\\nassert f(g()) == True\\nassert f(g()) == True\",\n",
       "  \"def f(n: int) -> bool:\\n    return str(n * n).startswith('123456789')\\ndef g():\\n    n = 35184372  # This is the smallest number whose square starts with '123456789'\\n    return n\\n\\nassert f(g()) == True\\nassert f(g()) == True\",\n",
       "  \"def f(n: int) -> bool:\\n    return str(n * n).startswith('123456789')\\ndef g():\\n    for i in range(1000000000):\\n        if f(i):\\n            return i\\n    return -1  # or any default value\\n\\nassert f(g()) == True\\nassert f(g()) == True\",\n",
       "  \"def f(n: int) -> bool:\\n    return str(n * n).startswith('123456789')\\ndef g():\\n    return 352651638\\n\\nassert f(g()) == True\\nassert f(g()) == True\",\n",
       "  \"def f(n: int) -> bool:\\n    return str(n * n).startswith('123456789')\\ndef g():\\n    i = 0\\n    while True:\\n        i += 1\\n        if f(i):\\n            return i \\n\\nassert f(g()) == True\\nassert f(g()) == True\",\n",
       "  \"def f(n: int) -> bool:\\n    return str(n * n).startswith('123456789')\\ndef g():\\n    return 354295736\\n\\nassert f(g()) == True\\nassert f(g()) == True\",\n",
       "  \"def f(n: int) -> bool:\\n    return str(n * n).startswith('123456789')\\ndef g():\\n    import math\\n    n = 3526560929\\n    return n\\n\\nassert f(g()) == True\\nassert f(g()) == True\",\n",
       "  \"def f(n: int) -> bool:\\n    return str(n * n).startswith('123456789')\\ndef g():\\n    return 352651358786\\n\\nassert f(g()) == True\\nassert f(g()) == True\",\n",
       "  \"def f(n: int) -> bool:\\n    return str(n * n).startswith('123456789')\\ndef g():\\n    return 354294）\\r\\n<|start_header_id|><|start_header_id|>assistant<|end_header_id|>\\n\\nThis solution is correct because 354294^2 = 125235366561096 which starts with '123456789'.\\nassert f(g()) == True\\nassert f(g()) == True\"],\n",
       " 'all_solution_correct': [True,\n",
       "  False,\n",
       "  False,\n",
       "  False,\n",
       "  False,\n",
       "  False,\n",
       "  False,\n",
       "  False,\n",
       "  False,\n",
       "  False,\n",
       "  False,\n",
       "  False,\n",
       "  False,\n",
       "  False,\n",
       "  False,\n",
       "  False,\n",
       "  False,\n",
       "  False,\n",
       "  False,\n",
       "  False,\n",
       "  False,\n",
       "  False,\n",
       "  False,\n",
       "  False,\n",
       "  False,\n",
       "  False,\n",
       "  False,\n",
       "  False,\n",
       "  False,\n",
       "  False,\n",
       "  False,\n",
       "  False,\n",
       "  False,\n",
       "  False,\n",
       "  False,\n",
       "  False,\n",
       "  False,\n",
       "  False,\n",
       "  False,\n",
       "  False,\n",
       "  False,\n",
       "  False,\n",
       "  False,\n",
       "  False,\n",
       "  False,\n",
       "  False,\n",
       "  False,\n",
       "  False,\n",
       "  False,\n",
       "  False],\n",
       " 'unique_id': 'P3_train-0'}"
      ]
     },
     "execution_count": 2,
     "metadata": {},
     "output_type": "execute_result"
    }
   ],
   "source": [
    "data[0]\n",
    "# suppose we only have \"program_str\""
   ]
  },
  {
   "cell_type": "code",
   "execution_count": null,
   "metadata": {},
   "outputs": [],
   "source": []
  },
  {
   "cell_type": "code",
   "execution_count": 20,
   "metadata": {},
   "outputs": [
    {
     "name": "stdout",
     "output_type": "stream",
     "text": [
      "24\n"
     ]
    },
    {
     "name": "stderr",
     "output_type": "stream",
     "text": [
      "100%|██████████| 4/4 [00:00<00:00, 394.90it/s]\n"
     ]
    }
   ],
   "source": [
    "from aces.code_sandbox import evaluate, pass_at_k\n",
    "str_to_add=str(\n",
    "            f\"\\ndef run_eval():\\n\"\n",
    "            f\"    return f(g()) == True\"\n",
    "        )\n",
    "\n",
    "list_codes=[\"def f(x):\\n    return x\\ndef g():\\n    return True\", \"def f(x):\\n    return x\\ndef g():\\n    return False\",\n",
    "            \"def f(x):\\n    return not x\\ndef g():\\n    return False\", \"def f(x):\\n    return not x\\ndef g():\\n    return True\"]\n",
    "\n",
    "\n",
    "list_task_id=[0,0,1,1]\n",
    "for i in range(len(list_codes)):\n",
    "    list_codes[i] = list_codes[i]+str_to_add\n",
    "\n",
    "res = evaluate(list_codes, list_task_id,entry_point=\"run_eval\")"
   ]
  },
  {
   "cell_type": "code",
   "execution_count": null,
   "metadata": {},
   "outputs": [
    {
     "data": {
      "text/plain": [
       "{'date': '2024-12-01 18:59',\n",
       " 'eval': {0: [True, False], 1: [True, False]},\n",
       " 'pass@k': {0: 0.5, 1: 0.5},\n",
       " 'raw_result': defaultdict(list,\n",
       "             {0: [{'completion_id': 0,\n",
       "                'task_id': 0,\n",
       "                '_identifier': 5,\n",
       "                'code': 'def f(x):\\n    return x\\ndef g():\\n    return True\\ndef run_eval():\\n    return f(g()) == True',\n",
       "                'result': 'pass',\n",
       "                'correct': True},\n",
       "               {'completion_id': 1,\n",
       "                'task_id': 0,\n",
       "                '_identifier': 5,\n",
       "                'code': 'def f(x):\\n    return x\\ndef g():\\n    return False\\ndef run_eval():\\n    return f(g()) == True',\n",
       "                'result': 'fail',\n",
       "                'correct': False}],\n",
       "              1: [{'completion_id': 2,\n",
       "                'task_id': 1,\n",
       "                '_identifier': 5,\n",
       "                'code': 'def f(x):\\n    return not x\\ndef g():\\n    return False\\ndef run_eval():\\n    return f(g()) == True',\n",
       "                'result': 'pass',\n",
       "                'correct': True},\n",
       "               {'completion_id': 3,\n",
       "                'task_id': 1,\n",
       "                '_identifier': 5,\n",
       "                'code': 'def f(x):\\n    return not x\\ndef g():\\n    return True\\ndef run_eval():\\n    return f(g()) == True',\n",
       "                'result': 'fail',\n",
       "                'correct': False}]})}"
      ]
     },
     "execution_count": 5,
     "metadata": {},
     "output_type": "execute_result"
    }
   ],
   "source": [
    "res[\"raw_result\"]"
   ]
  },
  {
   "cell_type": "code",
   "execution_count": 17,
   "metadata": {},
   "outputs": [],
   "source": [
    "list_task_id=[0,1]\n",
    "for task_id in list_task_id:\n",
    "    all_solution = []\n",
    "    all_solution_correct = []\n",
    "    for id_completion in range(len(res[\"raw_result\"][task_id])):\n",
    "        all_solution.append(res[\"raw_result\"][task_id][id_completion][\"code\"].split(str_to_add)[0])\n",
    "        all_solution_correct.append(res[\"raw_result\"][task_id][id_completion][\"correct\"])\n"
   ]
  },
  {
   "cell_type": "code",
   "execution_count": 19,
   "metadata": {},
   "outputs": [
    {
     "data": {
      "text/plain": [
       "['def f(x):\\n    return not x\\ndef g():\\n    return False',\n",
       " 'def f(x):\\n    return not x\\ndef g():\\n    return True']"
      ]
     },
     "execution_count": 19,
     "metadata": {},
     "output_type": "execute_result"
    }
   ],
   "source": [
    "all_solution"
   ]
  },
  {
   "cell_type": "code",
   "execution_count": 18,
   "metadata": {},
   "outputs": [
    {
     "data": {
      "text/plain": [
       "[True, False]"
      ]
     },
     "execution_count": 18,
     "metadata": {},
     "output_type": "execute_result"
    }
   ],
   "source": [
    "all_solution_correct"
   ]
  },
  {
   "cell_type": "code",
   "execution_count": 21,
   "metadata": {},
   "outputs": [
    {
     "data": {
      "text/plain": [
       "0.5"
      ]
     },
     "execution_count": 21,
     "metadata": {},
     "output_type": "execute_result"
    }
   ],
   "source": [
    "number_solution = len(all_solution)\n",
    "c = sum(all_solution_correct)\n",
    "k=1\n",
    "pass_at_k(n=number_solution, c=c, k=k)"
   ]
  },
  {
   "cell_type": "code",
   "execution_count": 15,
   "metadata": {},
   "outputs": [
    {
     "ename": "NameError",
     "evalue": "name 'task_id' is not defined",
     "output_type": "error",
     "traceback": [
      "\u001b[0;31m---------------------------------------------------------------------------\u001b[0m",
      "\u001b[0;31mNameError\u001b[0m                                 Traceback (most recent call last)",
      "Cell \u001b[0;32mIn[15], line 2\u001b[0m\n\u001b[1;32m      1\u001b[0m id_completion \u001b[38;5;241m=\u001b[39m \u001b[38;5;241m0\u001b[39m\n\u001b[0;32m----> 2\u001b[0m res[\u001b[38;5;124m\"\u001b[39m\u001b[38;5;124mraw_result\u001b[39m\u001b[38;5;124m\"\u001b[39m][\u001b[43mtask_id\u001b[49m][\u001b[38;5;241m0\u001b[39m][\u001b[38;5;124m\"\u001b[39m\u001b[38;5;124mcode\u001b[39m\u001b[38;5;124m\"\u001b[39m]\u001b[38;5;241m.\u001b[39msplit(str_to_add)[\u001b[38;5;241m0\u001b[39m]\n",
      "\u001b[0;31mNameError\u001b[0m: name 'task_id' is not defined"
     ]
    }
   ],
   "source": [
    "id_completion = 0\n",
    "res[\"raw_result\"][task_id][0][\"code\"].split(str_to_add)[0]\n"
   ]
  },
  {
   "cell_type": "code",
   "execution_count": 14,
   "metadata": {},
   "outputs": [
    {
     "data": {
      "text/plain": [
       "True"
      ]
     },
     "execution_count": 14,
     "metadata": {},
     "output_type": "execute_result"
    }
   ],
   "source": [
    "res[\"raw_result\"][0][0][\"correct\"]"
   ]
  },
  {
   "cell_type": "code",
   "execution_count": null,
   "metadata": {},
   "outputs": [],
   "source": []
  }
 ],
 "metadata": {
  "kernelspec": {
   "display_name": "aces",
   "language": "python",
   "name": "python3"
  },
  "language_info": {
   "codemirror_mode": {
    "name": "ipython",
    "version": 3
   },
   "file_extension": ".py",
   "mimetype": "text/x-python",
   "name": "python",
   "nbconvert_exporter": "python",
   "pygments_lexer": "ipython3",
   "version": "3.11.10"
  }
 },
 "nbformat": 4,
 "nbformat_minor": 2
}
